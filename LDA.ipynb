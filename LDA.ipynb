{
 "cells": [
  {
   "cell_type": "code",
   "execution_count": 66,
   "metadata": {},
   "outputs": [],
   "source": [
    "import pandas as pd\n",
    "import numpy as np\n",
    "from scipy import sparse as sps\n",
    "import nltk\n",
    "import pickle\n",
    "from sklearn.feature_extraction.text import TfidfVectorizer\n",
    "%matplotlib inline\n",
    "import matplotlib.pyplot as plt\n",
    "from nltk.stem import WordNetLemmatizer\n",
    "from nltk.corpus import stopwords\n",
    "from nltk.stem import PorterStemmer\n",
    "from nltk.tokenize import RegexpTokenizer\n",
    "ps = PorterStemmer()\n",
    "tokenizer = RegexpTokenizer(r'\\w+')\n",
    "from scipy import sparse\n",
    "from sklearn.preprocessing import normalize\n",
    "lemmatizer = WordNetLemmatizer() \n",
    "words = set(nltk.corpus.words.words())\n",
    "from sklearn.feature_extraction.text import CountVectorizer"
   ]
  },
  {
   "cell_type": "code",
   "execution_count": 5,
   "metadata": {},
   "outputs": [
    {
     "data": {
      "text/html": [
       "<div>\n",
       "<style scoped>\n",
       "    .dataframe tbody tr th:only-of-type {\n",
       "        vertical-align: middle;\n",
       "    }\n",
       "\n",
       "    .dataframe tbody tr th {\n",
       "        vertical-align: top;\n",
       "    }\n",
       "\n",
       "    .dataframe thead th {\n",
       "        text-align: right;\n",
       "    }\n",
       "</style>\n",
       "<table border=\"1\" class=\"dataframe\">\n",
       "  <thead>\n",
       "    <tr style=\"text-align: right;\">\n",
       "      <th></th>\n",
       "      <th>funny</th>\n",
       "      <th>helpful</th>\n",
       "      <th>item_id</th>\n",
       "      <th>last_edited</th>\n",
       "      <th>posted</th>\n",
       "      <th>recommend</th>\n",
       "      <th>review</th>\n",
       "      <th>user_id</th>\n",
       "    </tr>\n",
       "  </thead>\n",
       "  <tbody>\n",
       "    <tr>\n",
       "      <th>0</th>\n",
       "      <td></td>\n",
       "      <td>No ratings yet</td>\n",
       "      <td>1250</td>\n",
       "      <td></td>\n",
       "      <td>Posted November 5, 2011.</td>\n",
       "      <td>True</td>\n",
       "      <td>Simple yet with great replayability. In my opi...</td>\n",
       "      <td>76561197970982479</td>\n",
       "    </tr>\n",
       "    <tr>\n",
       "      <th>1</th>\n",
       "      <td></td>\n",
       "      <td>No ratings yet</td>\n",
       "      <td>22200</td>\n",
       "      <td></td>\n",
       "      <td>Posted July 15, 2011.</td>\n",
       "      <td>True</td>\n",
       "      <td>It's unique and worth a playthrough.</td>\n",
       "      <td>76561197970982479</td>\n",
       "    </tr>\n",
       "    <tr>\n",
       "      <th>2</th>\n",
       "      <td></td>\n",
       "      <td>No ratings yet</td>\n",
       "      <td>43110</td>\n",
       "      <td></td>\n",
       "      <td>Posted April 21, 2011.</td>\n",
       "      <td>True</td>\n",
       "      <td>Great atmosphere. The gunplay can be a bit chu...</td>\n",
       "      <td>76561197970982479</td>\n",
       "    </tr>\n",
       "    <tr>\n",
       "      <th>3</th>\n",
       "      <td></td>\n",
       "      <td>15 of 20 people (75%) found this review helpful</td>\n",
       "      <td>251610</td>\n",
       "      <td></td>\n",
       "      <td>Posted June 24, 2014.</td>\n",
       "      <td>True</td>\n",
       "      <td>I know what you think when you see this title ...</td>\n",
       "      <td>js41637</td>\n",
       "    </tr>\n",
       "    <tr>\n",
       "      <th>4</th>\n",
       "      <td></td>\n",
       "      <td>0 of 1 people (0%) found this review helpful</td>\n",
       "      <td>227300</td>\n",
       "      <td></td>\n",
       "      <td>Posted September 8, 2013.</td>\n",
       "      <td>True</td>\n",
       "      <td>For a simple (it's actually not all that simpl...</td>\n",
       "      <td>js41637</td>\n",
       "    </tr>\n",
       "  </tbody>\n",
       "</table>\n",
       "</div>"
      ],
      "text/plain": [
       "  funny                                          helpful  item_id last_edited  \\\n",
       "0                                         No ratings yet     1250               \n",
       "1                                         No ratings yet    22200               \n",
       "2                                         No ratings yet    43110               \n",
       "3        15 of 20 people (75%) found this review helpful   251610               \n",
       "4           0 of 1 people (0%) found this review helpful   227300               \n",
       "\n",
       "                      posted  recommend  \\\n",
       "0   Posted November 5, 2011.       True   \n",
       "1      Posted July 15, 2011.       True   \n",
       "2     Posted April 21, 2011.       True   \n",
       "3      Posted June 24, 2014.       True   \n",
       "4  Posted September 8, 2013.       True   \n",
       "\n",
       "                                              review            user_id  \n",
       "0  Simple yet with great replayability. In my opi...  76561197970982479  \n",
       "1               It's unique and worth a playthrough.  76561197970982479  \n",
       "2  Great atmosphere. The gunplay can be a bit chu...  76561197970982479  \n",
       "3  I know what you think when you see this title ...            js41637  \n",
       "4  For a simple (it's actually not all that simpl...            js41637  "
      ]
     },
     "execution_count": 5,
     "metadata": {},
     "output_type": "execute_result"
    }
   ],
   "source": [
    "saved = open(\"pickle/game_reviews.pickle\",\"rb\")\n",
    "game_reviews = pickle.load(saved)\n",
    "game_reviews.head()"
   ]
  },
  {
   "cell_type": "code",
   "execution_count": 6,
   "metadata": {},
   "outputs": [
    {
     "data": {
      "text/plain": [
       "(58430, 3)"
      ]
     },
     "execution_count": 6,
     "metadata": {},
     "output_type": "execute_result"
    }
   ],
   "source": [
    "reviews = game_reviews[['item_id', 'user_id','review']]\n",
    "reviews = reviews.rename(columns={'user_id': 'user', 'item_id': 'item'})\n",
    "reviews.shape"
   ]
  },
  {
   "cell_type": "code",
   "execution_count": 7,
   "metadata": {},
   "outputs": [
    {
     "data": {
      "text/html": [
       "<div>\n",
       "<style scoped>\n",
       "    .dataframe tbody tr th:only-of-type {\n",
       "        vertical-align: middle;\n",
       "    }\n",
       "\n",
       "    .dataframe tbody tr th {\n",
       "        vertical-align: top;\n",
       "    }\n",
       "\n",
       "    .dataframe thead th {\n",
       "        text-align: right;\n",
       "    }\n",
       "</style>\n",
       "<table border=\"1\" class=\"dataframe\">\n",
       "  <thead>\n",
       "    <tr style=\"text-align: right;\">\n",
       "      <th></th>\n",
       "      <th>user_id</th>\n",
       "      <th>item_id</th>\n",
       "      <th>item_name</th>\n",
       "    </tr>\n",
       "  </thead>\n",
       "  <tbody>\n",
       "    <tr>\n",
       "      <th>0</th>\n",
       "      <td>76561197970982479</td>\n",
       "      <td>10</td>\n",
       "      <td>Counter-Strike</td>\n",
       "    </tr>\n",
       "    <tr>\n",
       "      <th>1</th>\n",
       "      <td>76561197970982479</td>\n",
       "      <td>20</td>\n",
       "      <td>Team Fortress Classic</td>\n",
       "    </tr>\n",
       "    <tr>\n",
       "      <th>2</th>\n",
       "      <td>76561197970982479</td>\n",
       "      <td>30</td>\n",
       "      <td>Day of Defeat</td>\n",
       "    </tr>\n",
       "    <tr>\n",
       "      <th>3</th>\n",
       "      <td>76561197970982479</td>\n",
       "      <td>40</td>\n",
       "      <td>Deathmatch Classic</td>\n",
       "    </tr>\n",
       "    <tr>\n",
       "      <th>4</th>\n",
       "      <td>76561197970982479</td>\n",
       "      <td>50</td>\n",
       "      <td>Half-Life: Opposing Force</td>\n",
       "    </tr>\n",
       "  </tbody>\n",
       "</table>\n",
       "</div>"
      ],
      "text/plain": [
       "             user_id  item_id                  item_name\n",
       "0  76561197970982479       10             Counter-Strike\n",
       "1  76561197970982479       20      Team Fortress Classic\n",
       "2  76561197970982479       30              Day of Defeat\n",
       "3  76561197970982479       40         Deathmatch Classic\n",
       "4  76561197970982479       50  Half-Life: Opposing Force"
      ]
     },
     "execution_count": 7,
     "metadata": {},
     "output_type": "execute_result"
    }
   ],
   "source": [
    "user_game = open(\"pickle/user_games.pickle\",\"rb\")\n",
    "user_games = pickle.load(user_game)\n",
    "user_games.head()"
   ]
  },
  {
   "cell_type": "code",
   "execution_count": 8,
   "metadata": {},
   "outputs": [
    {
     "data": {
      "text/html": [
       "<div>\n",
       "<style scoped>\n",
       "    .dataframe tbody tr th:only-of-type {\n",
       "        vertical-align: middle;\n",
       "    }\n",
       "\n",
       "    .dataframe tbody tr th {\n",
       "        vertical-align: top;\n",
       "    }\n",
       "\n",
       "    .dataframe thead th {\n",
       "        text-align: right;\n",
       "    }\n",
       "</style>\n",
       "<table border=\"1\" class=\"dataframe\">\n",
       "  <thead>\n",
       "    <tr style=\"text-align: right;\">\n",
       "      <th></th>\n",
       "      <th>item</th>\n",
       "      <th>user</th>\n",
       "    </tr>\n",
       "  </thead>\n",
       "  <tbody>\n",
       "    <tr>\n",
       "      <th>0</th>\n",
       "      <td>10</td>\n",
       "      <td>76561197970982479</td>\n",
       "    </tr>\n",
       "    <tr>\n",
       "      <th>1</th>\n",
       "      <td>20</td>\n",
       "      <td>76561197970982479</td>\n",
       "    </tr>\n",
       "    <tr>\n",
       "      <th>2</th>\n",
       "      <td>30</td>\n",
       "      <td>76561197970982479</td>\n",
       "    </tr>\n",
       "    <tr>\n",
       "      <th>3</th>\n",
       "      <td>40</td>\n",
       "      <td>76561197970982479</td>\n",
       "    </tr>\n",
       "    <tr>\n",
       "      <th>4</th>\n",
       "      <td>50</td>\n",
       "      <td>76561197970982479</td>\n",
       "    </tr>\n",
       "  </tbody>\n",
       "</table>\n",
       "</div>"
      ],
      "text/plain": [
       "   item               user\n",
       "0    10  76561197970982479\n",
       "1    20  76561197970982479\n",
       "2    30  76561197970982479\n",
       "3    40  76561197970982479\n",
       "4    50  76561197970982479"
      ]
     },
     "execution_count": 8,
     "metadata": {},
     "output_type": "execute_result"
    }
   ],
   "source": [
    "user_games_list = user_games.rename(columns={'user_id': 'user', 'item_id': 'item'})\n",
    "user_games_list = user_games_list[['item', 'user']]\n",
    "\n",
    "user_games_list.head()"
   ]
  },
  {
   "cell_type": "code",
   "execution_count": 9,
   "metadata": {},
   "outputs": [],
   "source": [
    "def process(content):\n",
    "        \n",
    "        processed = tokenizer.tokenize(content)\n",
    "\n",
    "        processed = [token.lower() for token in processed]\n",
    "\n",
    "        processed = [token for token in processed if token not in stopwords.words('english')]\n",
    "        \n",
    "        #processed = [token for token in processed if token in words or not token.isalnum()]\n",
    "        \n",
    "        processed = [ps.stem(token) for token in processed]\n",
    "        \n",
    "        return processed"
   ]
  },
  {
   "cell_type": "code",
   "execution_count": 93,
   "metadata": {},
   "outputs": [],
   "source": [
    "class LemmaTokenizer(object):\n",
    "        \n",
    "    def __call__(self, content):\n",
    "\n",
    "        processed = tokenizer.tokenize(content)\n",
    "        processed = [token.lower() for token in processed]\n",
    "        processed = [token for token in processed if token not in stopwords.words('english')]\n",
    "        processed = [ps.stem(token) for token in processed]\n",
    "\n",
    "        return processed\n",
    "            \n",
    "            #return [self.wnl.lemmatize(t) for t in word_tokenize(doc)]"
   ]
  },
  {
   "cell_type": "code",
   "execution_count": 10,
   "metadata": {},
   "outputs": [],
   "source": [
    "item_data = pd.DataFrame({'review': reviews.groupby(['item']).review.apply(lambda x:' '.join(x))})\n",
    "item_data.reset_index(inplace=True)\n",
    "item_data['processed_reviews'] = item_data['review'].apply(lambda row: process(row))"
   ]
  },
  {
   "cell_type": "code",
   "execution_count": 94,
   "metadata": {},
   "outputs": [],
   "source": [
    "vect = CountVectorizer(tokenizer=LemmaTokenizer())"
   ]
  },
  {
   "cell_type": "code",
   "execution_count": null,
   "metadata": {},
   "outputs": [],
   "source": []
  },
  {
   "cell_type": "code",
   "execution_count": 99,
   "metadata": {},
   "outputs": [],
   "source": [
    "BOS = item_data['review'].tolist()"
   ]
  },
  {
   "cell_type": "code",
   "execution_count": 101,
   "metadata": {},
   "outputs": [],
   "source": [
    "X = vect.fit_transform(BOS)\n",
    "X"
   ]
  },
  {
   "cell_type": "code",
   "execution_count": 152,
   "metadata": {},
   "outputs": [
    {
     "ename": "MemoryError",
     "evalue": "",
     "output_type": "error",
     "traceback": [
      "\u001b[0;31m---------------------------------------------------------------------------\u001b[0m",
      "\u001b[0;31mMemoryError\u001b[0m                               Traceback (most recent call last)",
      "\u001b[0;32m<ipython-input-152-3ef413dd7ae9>\u001b[0m in \u001b[0;36m<module>\u001b[0;34m()\u001b[0m\n\u001b[0;32m----> 1\u001b[0;31m \u001b[0mX\u001b[0m\u001b[0;34m.\u001b[0m\u001b[0mtodense\u001b[0m\u001b[0;34m(\u001b[0m\u001b[0;34m)\u001b[0m\u001b[0;34m\u001b[0m\u001b[0;34m\u001b[0m\u001b[0m\n\u001b[0m",
      "\u001b[0;32m~/anaconda3/lib/python3.7/site-packages/scipy/sparse/base.py\u001b[0m in \u001b[0;36mtodense\u001b[0;34m(self, order, out)\u001b[0m\n\u001b[1;32m    844\u001b[0m             \u001b[0;31m`\u001b[0m\u001b[0mnumpy\u001b[0m\u001b[0;34m.\u001b[0m\u001b[0mmatrix\u001b[0m\u001b[0;31m`\u001b[0m \u001b[0mobject\u001b[0m \u001b[0mthat\u001b[0m \u001b[0mshares\u001b[0m \u001b[0mthe\u001b[0m \u001b[0msame\u001b[0m \u001b[0mmemory\u001b[0m\u001b[0;34m.\u001b[0m\u001b[0;34m\u001b[0m\u001b[0;34m\u001b[0m\u001b[0m\n\u001b[1;32m    845\u001b[0m         \"\"\"\n\u001b[0;32m--> 846\u001b[0;31m         \u001b[0;32mreturn\u001b[0m \u001b[0mnp\u001b[0m\u001b[0;34m.\u001b[0m\u001b[0masmatrix\u001b[0m\u001b[0;34m(\u001b[0m\u001b[0mself\u001b[0m\u001b[0;34m.\u001b[0m\u001b[0mtoarray\u001b[0m\u001b[0;34m(\u001b[0m\u001b[0morder\u001b[0m\u001b[0;34m=\u001b[0m\u001b[0morder\u001b[0m\u001b[0;34m,\u001b[0m \u001b[0mout\u001b[0m\u001b[0;34m=\u001b[0m\u001b[0mout\u001b[0m\u001b[0;34m)\u001b[0m\u001b[0;34m)\u001b[0m\u001b[0;34m\u001b[0m\u001b[0;34m\u001b[0m\u001b[0m\n\u001b[0m\u001b[1;32m    847\u001b[0m \u001b[0;34m\u001b[0m\u001b[0m\n\u001b[1;32m    848\u001b[0m     \u001b[0;32mdef\u001b[0m \u001b[0mtoarray\u001b[0m\u001b[0;34m(\u001b[0m\u001b[0mself\u001b[0m\u001b[0;34m,\u001b[0m \u001b[0morder\u001b[0m\u001b[0;34m=\u001b[0m\u001b[0;32mNone\u001b[0m\u001b[0;34m,\u001b[0m \u001b[0mout\u001b[0m\u001b[0;34m=\u001b[0m\u001b[0;32mNone\u001b[0m\u001b[0;34m)\u001b[0m\u001b[0;34m:\u001b[0m\u001b[0;34m\u001b[0m\u001b[0;34m\u001b[0m\u001b[0m\n",
      "\u001b[0;32m~/anaconda3/lib/python3.7/site-packages/scipy/sparse/compressed.py\u001b[0m in \u001b[0;36mtoarray\u001b[0;34m(self, order, out)\u001b[0m\n\u001b[1;32m    945\u001b[0m         \u001b[0;32mif\u001b[0m \u001b[0mout\u001b[0m \u001b[0;32mis\u001b[0m \u001b[0;32mNone\u001b[0m \u001b[0;32mand\u001b[0m \u001b[0morder\u001b[0m \u001b[0;32mis\u001b[0m \u001b[0;32mNone\u001b[0m\u001b[0;34m:\u001b[0m\u001b[0;34m\u001b[0m\u001b[0;34m\u001b[0m\u001b[0m\n\u001b[1;32m    946\u001b[0m             \u001b[0morder\u001b[0m \u001b[0;34m=\u001b[0m \u001b[0mself\u001b[0m\u001b[0;34m.\u001b[0m\u001b[0m_swap\u001b[0m\u001b[0;34m(\u001b[0m\u001b[0;34m'cf'\u001b[0m\u001b[0;34m)\u001b[0m\u001b[0;34m[\u001b[0m\u001b[0;36m0\u001b[0m\u001b[0;34m]\u001b[0m\u001b[0;34m\u001b[0m\u001b[0;34m\u001b[0m\u001b[0m\n\u001b[0;32m--> 947\u001b[0;31m         \u001b[0mout\u001b[0m \u001b[0;34m=\u001b[0m \u001b[0mself\u001b[0m\u001b[0;34m.\u001b[0m\u001b[0m_process_toarray_args\u001b[0m\u001b[0;34m(\u001b[0m\u001b[0morder\u001b[0m\u001b[0;34m,\u001b[0m \u001b[0mout\u001b[0m\u001b[0;34m)\u001b[0m\u001b[0;34m\u001b[0m\u001b[0;34m\u001b[0m\u001b[0m\n\u001b[0m\u001b[1;32m    948\u001b[0m         \u001b[0;32mif\u001b[0m \u001b[0;32mnot\u001b[0m \u001b[0;34m(\u001b[0m\u001b[0mout\u001b[0m\u001b[0;34m.\u001b[0m\u001b[0mflags\u001b[0m\u001b[0;34m.\u001b[0m\u001b[0mc_contiguous\u001b[0m \u001b[0;32mor\u001b[0m \u001b[0mout\u001b[0m\u001b[0;34m.\u001b[0m\u001b[0mflags\u001b[0m\u001b[0;34m.\u001b[0m\u001b[0mf_contiguous\u001b[0m\u001b[0;34m)\u001b[0m\u001b[0;34m:\u001b[0m\u001b[0;34m\u001b[0m\u001b[0;34m\u001b[0m\u001b[0m\n\u001b[1;32m    949\u001b[0m             \u001b[0;32mraise\u001b[0m \u001b[0mValueError\u001b[0m\u001b[0;34m(\u001b[0m\u001b[0;34m'Output array must be C or F contiguous'\u001b[0m\u001b[0;34m)\u001b[0m\u001b[0;34m\u001b[0m\u001b[0;34m\u001b[0m\u001b[0m\n",
      "\u001b[0;32m~/anaconda3/lib/python3.7/site-packages/scipy/sparse/base.py\u001b[0m in \u001b[0;36m_process_toarray_args\u001b[0;34m(self, order, out)\u001b[0m\n\u001b[1;32m   1182\u001b[0m             \u001b[0;32mreturn\u001b[0m \u001b[0mout\u001b[0m\u001b[0;34m\u001b[0m\u001b[0;34m\u001b[0m\u001b[0m\n\u001b[1;32m   1183\u001b[0m         \u001b[0;32melse\u001b[0m\u001b[0;34m:\u001b[0m\u001b[0;34m\u001b[0m\u001b[0;34m\u001b[0m\u001b[0m\n\u001b[0;32m-> 1184\u001b[0;31m             \u001b[0;32mreturn\u001b[0m \u001b[0mnp\u001b[0m\u001b[0;34m.\u001b[0m\u001b[0mzeros\u001b[0m\u001b[0;34m(\u001b[0m\u001b[0mself\u001b[0m\u001b[0;34m.\u001b[0m\u001b[0mshape\u001b[0m\u001b[0;34m,\u001b[0m \u001b[0mdtype\u001b[0m\u001b[0;34m=\u001b[0m\u001b[0mself\u001b[0m\u001b[0;34m.\u001b[0m\u001b[0mdtype\u001b[0m\u001b[0;34m,\u001b[0m \u001b[0morder\u001b[0m\u001b[0;34m=\u001b[0m\u001b[0morder\u001b[0m\u001b[0;34m)\u001b[0m\u001b[0;34m\u001b[0m\u001b[0;34m\u001b[0m\u001b[0m\n\u001b[0m\u001b[1;32m   1185\u001b[0m \u001b[0;34m\u001b[0m\u001b[0m\n\u001b[1;32m   1186\u001b[0m \u001b[0;34m\u001b[0m\u001b[0m\n",
      "\u001b[0;31mMemoryError\u001b[0m: "
     ]
    }
   ],
   "source": [
    "X.todense()"
   ]
  },
  {
   "cell_type": "code",
   "execution_count": 114,
   "metadata": {},
   "outputs": [
    {
     "data": {
      "text/plain": [
       "[('cool', 1199),\n",
       " ('game', 66857),\n",
       " ('wallbang', 2),\n",
       " ('simul', 1063),\n",
       " ('1', 2531),\n",
       " ('onlin', 931),\n",
       " ('action', 941),\n",
       " ('awesom', 3660),\n",
       " ('better', 3088),\n",
       " ('team', 1688),\n",
       " ('fortress', 422),\n",
       " ('mutiplit', 1),\n",
       " ('player', 3389),\n",
       " ('best', 5842),\n",
       " ('fp', 1776)]"
      ]
     },
     "execution_count": 114,
     "metadata": {},
     "output_type": "execute_result"
    }
   ],
   "source": [
    "sum_words = X.sum(axis=0) \n",
    "words_freq = [(word, sum_words[0, idx]) for word, idx in vect.vocabulary_.items()]\n",
    "#words_freq =sorted(words_freq, key = lambda x: x[1], reverse=True)\n",
    "words_freq[:15]"
   ]
  },
  {
   "cell_type": "code",
   "execution_count": 105,
   "metadata": {},
   "outputs": [],
   "source": [
    "from sklearn.feature_extraction.text import TfidfTransformer\n",
    "tfidf_transformer1=TfidfTransformer()\n",
    "\n",
    "a = tfidf_transformer1.fit_transform(X)"
   ]
  },
  {
   "cell_type": "code",
   "execution_count": 67,
   "metadata": {},
   "outputs": [],
   "source": [
    "#vect = CountVectorizer(tokenizer=LemmaTokenizer())\n",
    "item_data['count'] = item_data['review'].apply(lambda row: CountVectorizer(tokenizer=process(row)).)\n",
    "item_data['count'].fit_transform()"
   ]
  },
  {
   "cell_type": "code",
   "execution_count": 12,
   "metadata": {},
   "outputs": [],
   "source": [
    "#item_data['bow'] = item_data['processed_reviews'].apply(lambda row: ' '.join(row))\n",
    "#bow = item_data['bow'].tolist()\n",
    "#len(bow)"
   ]
  },
  {
   "cell_type": "code",
   "execution_count": 13,
   "metadata": {},
   "outputs": [],
   "source": [
    "from sklearn.decomposition import LatentDirichletAllocation\n",
    "from sklearn.datasets import make_multilabel_classification"
   ]
  },
  {
   "cell_type": "code",
   "execution_count": 14,
   "metadata": {},
   "outputs": [
    {
     "data": {
      "text/plain": [
       "3682"
      ]
     },
     "execution_count": 14,
     "metadata": {},
     "output_type": "execute_result"
    }
   ],
   "source": [
    "bow = item_data['processed_reviews'].tolist()\n",
    "len(bow)"
   ]
  },
  {
   "cell_type": "code",
   "execution_count": 31,
   "metadata": {},
   "outputs": [],
   "source": [
    "def tuple_to_dict(row):\n",
    "    dc = dict((x, y) for x, y in row)\n",
    "    return dc"
   ]
  },
  {
   "cell_type": "code",
   "execution_count": 404,
   "metadata": {},
   "outputs": [
    {
     "data": {
      "text/plain": [
       "(3682, 70964)"
      ]
     },
     "execution_count": 404,
     "metadata": {},
     "output_type": "execute_result"
    }
   ],
   "source": [
    "new.shape"
   ]
  },
  {
   "cell_type": "code",
   "execution_count": 413,
   "metadata": {},
   "outputs": [],
   "source": [
    "from sklearn.feature_extraction.text import TfidfTransformer\n",
    "tfidf_transformer1=TfidfTransformer()\n",
    "\n",
    "a = tfidf_transformer1.fit_transform(new)"
   ]
  },
  {
   "cell_type": "code",
   "execution_count": 418,
   "metadata": {},
   "outputs": [
    {
     "data": {
      "text/plain": [
       "(3682, 70964)"
      ]
     },
     "execution_count": 418,
     "metadata": {},
     "output_type": "execute_result"
    }
   ],
   "source": [
    "a.todense().shape"
   ]
  },
  {
   "cell_type": "code",
   "execution_count": 320,
   "metadata": {},
   "outputs": [
    {
     "data": {
      "text/plain": [
       "<1x70710 sparse matrix of type '<class 'numpy.float64'>'\n",
       "\twith 190 stored elements in Compressed Sparse Row format>"
      ]
     },
     "execution_count": 320,
     "metadata": {},
     "output_type": "execute_result"
    }
   ],
   "source": [
    "corpus_list = []\n",
    "for item in item_data['processed_reviews']:\n",
    "    corpus_list.append(' '.join(item))\n",
    "    #corpus_list.append(item)\n",
    "tfidf_matrix = TfidfVectorizer().fit_transform(corpus_list)\n",
    "tfidf_matrix[1]"
   ]
  },
  {
   "cell_type": "code",
   "execution_count": 417,
   "metadata": {},
   "outputs": [
    {
     "data": {
      "text/plain": [
       "matrix([[0., 0., 0., ..., 0., 0., 0.],\n",
       "        [0., 0., 0., ..., 0., 0., 0.],\n",
       "        [0., 0., 0., ..., 0., 0., 0.],\n",
       "        ...,\n",
       "        [0., 0., 0., ..., 0., 0., 0.],\n",
       "        [0., 0., 0., ..., 0., 0., 0.],\n",
       "        [0., 0., 0., ..., 0., 0., 0.]])"
      ]
     },
     "execution_count": 417,
     "metadata": {},
     "output_type": "execute_result"
    }
   ],
   "source": [
    "tfidf_matrix.todense()"
   ]
  },
  {
   "cell_type": "code",
   "execution_count": 18,
   "metadata": {},
   "outputs": [],
   "source": [
    "from gensim import corpora\n",
    "dictionary = corpora.Dictionary(bow) \n",
    "corpus = [dictionary.doc2bow(text) for text in bow]"
   ]
  },
  {
   "cell_type": "code",
   "execution_count": 334,
   "metadata": {},
   "outputs": [],
   "source": [
    "from gensim.sklearn_api import TfIdfTransformer\n",
    "model = TfIdfTransformer(dictionary)\n",
    "tfidf_corpus = model.fit_transform(corpus)"
   ]
  },
  {
   "cell_type": "code",
   "execution_count": 338,
   "metadata": {},
   "outputs": [
    {
     "data": {
      "text/plain": [
       "tuple"
      ]
     },
     "execution_count": 338,
     "metadata": {},
     "output_type": "execute_result"
    }
   ],
   "source": [
    "type(tfidf_corpus[0][0])"
   ]
  },
  {
   "cell_type": "code",
   "execution_count": 19,
   "metadata": {},
   "outputs": [],
   "source": [
    "item_data['doc2bow'] = corpus"
   ]
  },
  {
   "cell_type": "code",
   "execution_count": 20,
   "metadata": {},
   "outputs": [
    {
     "data": {
      "text/html": [
       "<div>\n",
       "<style scoped>\n",
       "    .dataframe tbody tr th:only-of-type {\n",
       "        vertical-align: middle;\n",
       "    }\n",
       "\n",
       "    .dataframe tbody tr th {\n",
       "        vertical-align: top;\n",
       "    }\n",
       "\n",
       "    .dataframe thead th {\n",
       "        text-align: right;\n",
       "    }\n",
       "</style>\n",
       "<table border=\"1\" class=\"dataframe\">\n",
       "  <thead>\n",
       "    <tr style=\"text-align: right;\">\n",
       "      <th></th>\n",
       "      <th>item</th>\n",
       "      <th>review</th>\n",
       "      <th>processed_reviews</th>\n",
       "      <th>doc2bow</th>\n",
       "    </tr>\n",
       "  </thead>\n",
       "  <tbody>\n",
       "    <tr>\n",
       "      <th>0</th>\n",
       "      <td>10</td>\n",
       "      <td>Cool game Wallbang simulator this game is the ...</td>\n",
       "      <td>[cool, game, wallbang, simul, game, 1, onlin, ...</td>\n",
       "      <td>[(0, 4), (1, 7), (2, 1), (3, 1), (4, 1), (5, 1...</td>\n",
       "    </tr>\n",
       "    <tr>\n",
       "      <th>1</th>\n",
       "      <td>20</td>\n",
       "      <td>No Bread. Team Fortress tutkusunun başlangıcı;...</td>\n",
       "      <td>[bread, team, fortress, tutkusunun, başlangıcı...</td>\n",
       "      <td>[(0, 1), (1, 2), (5, 3), (20, 1), (24, 1), (39...</td>\n",
       "    </tr>\n",
       "    <tr>\n",
       "      <th>2</th>\n",
       "      <td>30</td>\n",
       "      <td>An excellent war shooter with a great online c...</td>\n",
       "      <td>[excel, war, shooter, great, onlin, commun, 5,...</td>\n",
       "      <td>[(0, 1), (1, 1), (5, 1), (65, 1), (105, 2), (1...</td>\n",
       "    </tr>\n",
       "    <tr>\n",
       "      <th>3</th>\n",
       "      <td>40</td>\n",
       "      <td>Best playerbase I have ever met. Everybody is ...</td>\n",
       "      <td>[best, playerbas, ever, met, everybodi, nice, ...</td>\n",
       "      <td>[(71, 1), (82, 1), (185, 1), (225, 1), (241, 1...</td>\n",
       "    </tr>\n",
       "    <tr>\n",
       "      <th>4</th>\n",
       "      <td>50</td>\n",
       "      <td>You want a decent Half-Life 1 game that's chea...</td>\n",
       "      <td>[want, decent, half, life, 1, game, cheap, get...</td>\n",
       "      <td>[(0, 1), (72, 1), (91, 1), (119, 1), (225, 3),...</td>\n",
       "    </tr>\n",
       "  </tbody>\n",
       "</table>\n",
       "</div>"
      ],
      "text/plain": [
       "   item                                             review  \\\n",
       "0    10  Cool game Wallbang simulator this game is the ...   \n",
       "1    20  No Bread. Team Fortress tutkusunun başlangıcı;...   \n",
       "2    30  An excellent war shooter with a great online c...   \n",
       "3    40  Best playerbase I have ever met. Everybody is ...   \n",
       "4    50  You want a decent Half-Life 1 game that's chea...   \n",
       "\n",
       "                                   processed_reviews  \\\n",
       "0  [cool, game, wallbang, simul, game, 1, onlin, ...   \n",
       "1  [bread, team, fortress, tutkusunun, başlangıcı...   \n",
       "2  [excel, war, shooter, great, onlin, commun, 5,...   \n",
       "3  [best, playerbas, ever, met, everybodi, nice, ...   \n",
       "4  [want, decent, half, life, 1, game, cheap, get...   \n",
       "\n",
       "                                             doc2bow  \n",
       "0  [(0, 4), (1, 7), (2, 1), (3, 1), (4, 1), (5, 1...  \n",
       "1  [(0, 1), (1, 2), (5, 3), (20, 1), (24, 1), (39...  \n",
       "2  [(0, 1), (1, 1), (5, 1), (65, 1), (105, 2), (1...  \n",
       "3  [(71, 1), (82, 1), (185, 1), (225, 1), (241, 1...  \n",
       "4  [(0, 1), (72, 1), (91, 1), (119, 1), (225, 3),...  "
      ]
     },
     "execution_count": 20,
     "metadata": {},
     "output_type": "execute_result"
    }
   ],
   "source": [
    "item_data.head()"
   ]
  },
  {
   "cell_type": "code",
   "execution_count": 21,
   "metadata": {},
   "outputs": [
    {
     "data": {
      "text/plain": [
       "571"
      ]
     },
     "execution_count": 21,
     "metadata": {},
     "output_type": "execute_result"
    }
   ],
   "source": [
    "len(corpus[0])"
   ]
  },
  {
   "cell_type": "code",
   "execution_count": 22,
   "metadata": {},
   "outputs": [
    {
     "name": "stdout",
     "output_type": "stream",
     "text": [
      "Number of unique tokens: 70964\n",
      "Number of articles: 3682\n"
     ]
    }
   ],
   "source": [
    "print('Number of unique tokens: %d' % len(dictionary))\n",
    "print('Number of articles: %d' % len(corpus))"
   ]
  },
  {
   "cell_type": "code",
   "execution_count": 32,
   "metadata": {},
   "outputs": [
    {
     "data": {
      "text/plain": [
       "<3682x70964 sparse matrix of type '<class 'numpy.float64'>'\n",
       "\twith 579792 stored elements in Compressed Sparse Row format>"
      ]
     },
     "execution_count": 32,
     "metadata": {},
     "output_type": "execute_result"
    }
   ],
   "source": [
    "dictvectorizer = DictVectorizer(sparse=True)\n",
    "dict_val = item_data['doc2bow'].apply(lambda row: tuple_to_dict(row))\n",
    "count_vec = dictvectorizer.fit_transform(dict_val)\n",
    "count_vec\n",
    "#tf_idf_mat = tfidf_transformer.fit_transform(count_vec)"
   ]
  },
  {
   "cell_type": "code",
   "execution_count": 38,
   "metadata": {},
   "outputs": [],
   "source": [
    "lda = LatentDirichletAllocation(n_components=20, random_state=0)\n",
    "a = lda.fit_transform(count_vec)\n",
    "#lda.transform(bow)"
   ]
  },
  {
   "cell_type": "code",
   "execution_count": 63,
   "metadata": {},
   "outputs": [
    {
     "data": {
      "text/plain": [
       "(3682, 70964)"
      ]
     },
     "execution_count": 63,
     "metadata": {},
     "output_type": "execute_result"
    }
   ],
   "source": [
    "count_vec.shape"
   ]
  },
  {
   "cell_type": "code",
   "execution_count": 57,
   "metadata": {},
   "outputs": [],
   "source": [
    "sA = sparse.csr_matrix(a)"
   ]
  },
  {
   "cell_type": "code",
   "execution_count": 58,
   "metadata": {},
   "outputs": [
    {
     "data": {
      "text/plain": [
       "array([[5.02512563e-05, 5.02512573e-05, 5.02512565e-05, ...,\n",
       "        5.02512566e-05, 5.02512569e-05, 5.02512577e-05],\n",
       "       [1.70648464e-04, 1.70648468e-04, 1.70648465e-04, ...,\n",
       "        1.70648465e-04, 1.70648466e-04, 1.70648467e-04],\n",
       "       [5.88235294e-04, 5.88235304e-04, 5.88235296e-04, ...,\n",
       "        5.88235297e-04, 5.88235301e-04, 5.88235299e-04],\n",
       "       ...,\n",
       "       [1.25000000e-02, 1.25000003e-02, 1.25000000e-02, ...,\n",
       "        1.25000000e-02, 1.25000001e-02, 1.25000002e-02],\n",
       "       [1.04166667e-03, 1.04166676e-03, 1.04166667e-03, ...,\n",
       "        1.04166668e-03, 1.04166667e-03, 1.04166668e-03],\n",
       "       [4.54545455e-03, 4.54545468e-03, 4.54545455e-03, ...,\n",
       "        4.54545455e-03, 4.54545460e-03, 4.54545467e-03]])"
      ]
     },
     "execution_count": 58,
     "metadata": {},
     "output_type": "execute_result"
    }
   ],
   "source": [
    "sA.toarray()"
   ]
  },
  {
   "cell_type": "code",
   "execution_count": 115,
   "metadata": {},
   "outputs": [],
   "source": [
    "import gensim\n",
    "NUM_TOPICS = 20\n",
    "lda_model = gensim.models.ldamodel.LdaModel(corpus, num_topics = NUM_TOPICS, id2word=dictionary, passes=15, per_word_topics=True)\n",
    "#ldamodel.save('model5.gensim')"
   ]
  },
  {
   "cell_type": "code",
   "execution_count": 151,
   "metadata": {},
   "outputs": [
    {
     "data": {
      "text/plain": [
       "[('isaac', 0.011600827), ('nope', 0.009645291), ('awesom', 0.009447839), ('bind', 0.009280967), ('10', 0.008524305), ('starv', 0.006257442), ('end', 0.005372209), ('rebirth', 0.0051313103), ('stanley', 0.0045404444), ('ftl', 0.0043492103)]"
      ]
     },
     "execution_count": 151,
     "metadata": {},
     "output_type": "execute_result"
    }
   ],
   "source": [
    "lda_model.show_topic(topicid=0, topn=10)"
   ]
  },
  {
   "cell_type": "code",
   "execution_count": 133,
   "metadata": {},
   "outputs": [
    {
     "data": {
      "text/plain": [
       "[(0, '0.012*\"isaac\" + 0.010*\"nope\" + 0.009*\"awesom\" + 0.009*\"bind\" + 0.009*\"10\" + 0.006*\"starv\" + 0.005*\"end\" + 0.005*\"rebirth\" + 0.005*\"stanley\" + 0.004*\"ftl\"'), (1, '0.026*\"и\" + 0.020*\"в\" + 0.017*\"не\" + 0.012*\"что\" + 0.012*\"на\" + 0.011*\"это\" + 0.009*\"игра\" + 0.009*\"но\" + 0.008*\"я\" + 0.008*\"с\"'), (2, '0.045*\"game\" + 0.015*\"10\" + 0.013*\"play\" + 0.008*\"nyan\" + 0.008*\"like\" + 0.007*\"good\" + 0.007*\"get\" + 0.006*\"great\" + 0.006*\"fun\" + 0.006*\"de\"'), (3, '0.084*\"bad\" + 0.019*\"horror\" + 0.018*\"took\" + 0.018*\"dad\" + 0.017*\"shower\" + 0.015*\"game\" + 0.013*\"scari\" + 0.010*\"scare\" + 0.009*\"dosh\" + 0.008*\"10\"'), (4, '0.002*\"osx\" + 0.001*\"hoi\" + 0.001*\"แฟน\" + 0.001*\"recommmend\" + 0.000*\"beatbox\" + 0.000*\"switzerland\" + 0.000*\"armageddon\" + 0.000*\"goblin\" + 0.000*\"surivi\" + 0.000*\"guerilla\"'), (5, '0.056*\"game\" + 0.018*\"10\" + 0.018*\"play\" + 0.012*\"fun\" + 0.012*\"get\" + 0.011*\"good\" + 0.009*\"zombi\" + 0.008*\"2\" + 0.008*\"friend\" + 0.008*\"like\"'), (6, '0.073*\"shit\" + 0.025*\"hit\" + 0.014*\"arma\" + 0.009*\"vr\" + 0.003*\"nep\" + 0.003*\"alti\" + 0.003*\"gonna\" + 0.002*\"alan\" + 0.002*\"chuck\" + 0.002*\"язык\"'), (7, '0.194*\"член\" + 0.017*\"dendi\" + 0.012*\"spolier\" + 0.012*\"spoler\" + 0.012*\"spoiler\" + 0.003*\"dota\" + 0.003*\"watch\" + 0.003*\"stealth\" + 0.003*\"movi\" + 0.002*\"членчлен\"'), (8, '0.011*\"tibet\" + 0.010*\"free\" + 0.003*\"thief\" + 0.002*\"tibetfre\" + 0.002*\"runescap\" + 0.001*\"evil\" + 0.001*\"oyunu\" + 0.001*\"si\" + 0.001*\"hra\" + 0.001*\"resid\"'), (9, '0.045*\"game\" + 0.025*\"3\" + 0.024*\"hat\" + 0.018*\"play\" + 0.013*\"de\" + 0.012*\"fun\" + 0.011*\"10\" + 0.010*\"que\" + 0.010*\"good\" + 0.008*\"best\"'), (10, '0.040*\"steambor\" + 0.012*\"9mm\" + 0.007*\"citi\" + 0.007*\"10\" + 0.006*\"game\" + 0.006*\"starv\" + 0.005*\"freddi\" + 0.005*\"emili\" + 0.004*\"_\" + 0.004*\"night\"'), (11, '0.029*\"exil\" + 0.029*\"path\" + 0.025*\"itbuy\" + 0.025*\"ye\" + 0.016*\"diablo\" + 0.008*\"buy\" + 0.008*\"poker\" + 0.004*\"subnautica\" + 0.002*\"blender\" + 0.002*\"learn\"'), (12, '0.036*\"click\" + 0.014*\"น\" + 0.014*\"ก\" + 0.013*\"บ\" + 0.013*\"ม\" + 0.009*\"ด\" + 0.008*\"แต\" + 0.008*\"ได\" + 0.007*\"ไม\" + 0.007*\"ต\"'), (13, '0.042*\"game\" + 0.014*\"war\" + 0.013*\"10\" + 0.012*\"play\" + 0.012*\"ship\" + 0.011*\"space\" + 0.011*\"great\" + 0.008*\"good\" + 0.008*\"like\" + 0.008*\"strategi\"'), (14, '0.055*\"game\" + 0.015*\"play\" + 0.010*\"like\" + 0.010*\"get\" + 0.009*\"10\" + 0.008*\"good\" + 0.007*\"time\" + 0.007*\"one\" + 0.007*\"great\" + 0.007*\"fun\"'), (15, '0.011*\"card\" + 0.009*\"deck\" + 0.007*\"mountain\" + 0.003*\"magic\" + 0.002*\"hearthston\" + 0.002*\"cosmic\" + 0.002*\"dbz\" + 0.002*\"tournament\" + 0.002*\"hacker\" + 0.002*\"mtg\"'), (16, '0.042*\"john\" + 0.041*\"madden\" + 0.018*\"doom\" + 0.005*\"aeiou\" + 0.003*\"snapmap\" + 0.003*\"demon\" + 0.002*\"unité\" + 0.002*\"ivori\" + 0.001*\"rebel\" + 0.001*\"text\"'), (17, '0.090*\"super\" + 0.082*\"hot\" + 0.025*\"buffalo\" + 0.011*\"car\" + 0.008*\"uplay\" + 0.008*\"race\" + 0.008*\"ubisoft\" + 0.006*\"ralli\" + 0.004*\"superhot\" + 0.003*\"innov\"'), (18, '0.056*\"ㅤ\" + 0.016*\"episod\" + 0.012*\"le\" + 0.011*\"telltal\" + 0.009*\"ㅤㅤ\" + 0.008*\"shark\" + 0.006*\"jeu\" + 0.006*\"de\" + 0.004*\"et\" + 0.004*\"island\"'), (19, '0.001*\"antlion\" + 0.001*\"hor\" + 0.001*\"rmb\" + 0.001*\"ƽaү\" + 0.001*\"99c\" + 0.001*\"insanley\" + 0.001*\"hahahah\" + 0.001*\"lmb\" + 0.001*\"ａｅｓｔｈｅｔｉｃ\" + 0.001*\"selｆ\"')]"
      ]
     },
     "execution_count": 133,
     "metadata": {},
     "output_type": "execute_result"
    }
   ],
   "source": [
    "lda_model.print_topics()"
   ]
  },
  {
   "cell_type": "code",
   "execution_count": 116,
   "metadata": {},
   "outputs": [],
   "source": [
    "def embedding(data_table, column_name, new_col):\n",
    "    data_table[new_col] = data_table[column_name]\n",
    "    #data_table[new_col] = data_table[new_col].apply(lambda row: lda_model.get_document_topics(row))\n",
    "    data_table[new_col] = data_table[new_col].apply(lambda row: lda_model[row])\n",
    "    return data_table"
   ]
  },
  {
   "cell_type": "code",
   "execution_count": 117,
   "metadata": {},
   "outputs": [
    {
     "data": {
      "text/html": [
       "<div>\n",
       "<style scoped>\n",
       "    .dataframe tbody tr th:only-of-type {\n",
       "        vertical-align: middle;\n",
       "    }\n",
       "\n",
       "    .dataframe tbody tr th {\n",
       "        vertical-align: top;\n",
       "    }\n",
       "\n",
       "    .dataframe thead th {\n",
       "        text-align: right;\n",
       "    }\n",
       "</style>\n",
       "<table border=\"1\" class=\"dataframe\">\n",
       "  <thead>\n",
       "    <tr style=\"text-align: right;\">\n",
       "      <th></th>\n",
       "      <th>item</th>\n",
       "      <th>review</th>\n",
       "      <th>processed_reviews</th>\n",
       "      <th>doc2bow</th>\n",
       "      <th>LDA_topic</th>\n",
       "      <th>count</th>\n",
       "    </tr>\n",
       "  </thead>\n",
       "  <tbody>\n",
       "    <tr>\n",
       "      <th>0</th>\n",
       "      <td>10</td>\n",
       "      <td>Cool game Wallbang simulator this game is the ...</td>\n",
       "      <td>[cool, game, wallbang, simul, game, 1, onlin, ...</td>\n",
       "      <td>[(0, 4), (1, 7), (2, 1), (3, 1), (4, 1), (5, 1...</td>\n",
       "      <td>([(2, 0.27237153), (5, 0.18286814), (9, 0.2706...</td>\n",
       "      <td>CountVectorizer(analyzer='word', binary=False,...</td>\n",
       "    </tr>\n",
       "    <tr>\n",
       "      <th>1</th>\n",
       "      <td>20</td>\n",
       "      <td>No Bread. Team Fortress tutkusunun başlangıcı;...</td>\n",
       "      <td>[bread, team, fortress, tutkusunun, başlangıcı...</td>\n",
       "      <td>[(0, 1), (1, 2), (5, 3), (20, 1), (24, 1), (39...</td>\n",
       "      <td>([(5, 0.15171626), (6, 0.095982514), (9, 0.348...</td>\n",
       "      <td>CountVectorizer(analyzer='word', binary=False,...</td>\n",
       "    </tr>\n",
       "    <tr>\n",
       "      <th>2</th>\n",
       "      <td>30</td>\n",
       "      <td>An excellent war shooter with a great online c...</td>\n",
       "      <td>[excel, war, shooter, great, onlin, commun, 5,...</td>\n",
       "      <td>[(0, 1), (1, 1), (5, 1), (65, 1), (105, 2), (1...</td>\n",
       "      <td>([(8, 0.012374228), (9, 0.15228565), (13, 0.11...</td>\n",
       "      <td>CountVectorizer(analyzer='word', binary=False,...</td>\n",
       "    </tr>\n",
       "    <tr>\n",
       "      <th>3</th>\n",
       "      <td>40</td>\n",
       "      <td>Best playerbase I have ever met. Everybody is ...</td>\n",
       "      <td>[best, playerbas, ever, met, everybodi, nice, ...</td>\n",
       "      <td>[(71, 1), (82, 1), (185, 1), (225, 1), (241, 1...</td>\n",
       "      <td>([(3, 0.060778096), (5, 0.89185345)], [(71, [5...</td>\n",
       "      <td>CountVectorizer(analyzer='word', binary=False,...</td>\n",
       "    </tr>\n",
       "    <tr>\n",
       "      <th>4</th>\n",
       "      <td>50</td>\n",
       "      <td>You want a decent Half-Life 1 game that's chea...</td>\n",
       "      <td>[want, decent, half, life, 1, game, cheap, get...</td>\n",
       "      <td>[(0, 1), (72, 1), (91, 1), (119, 1), (225, 3),...</td>\n",
       "      <td>([(14, 0.9586956)], [(0, [14]), (72, [14]), (9...</td>\n",
       "      <td>CountVectorizer(analyzer='word', binary=False,...</td>\n",
       "    </tr>\n",
       "  </tbody>\n",
       "</table>\n",
       "</div>"
      ],
      "text/plain": [
       "   item                                             review  \\\n",
       "0    10  Cool game Wallbang simulator this game is the ...   \n",
       "1    20  No Bread. Team Fortress tutkusunun başlangıcı;...   \n",
       "2    30  An excellent war shooter with a great online c...   \n",
       "3    40  Best playerbase I have ever met. Everybody is ...   \n",
       "4    50  You want a decent Half-Life 1 game that's chea...   \n",
       "\n",
       "                                   processed_reviews  \\\n",
       "0  [cool, game, wallbang, simul, game, 1, onlin, ...   \n",
       "1  [bread, team, fortress, tutkusunun, başlangıcı...   \n",
       "2  [excel, war, shooter, great, onlin, commun, 5,...   \n",
       "3  [best, playerbas, ever, met, everybodi, nice, ...   \n",
       "4  [want, decent, half, life, 1, game, cheap, get...   \n",
       "\n",
       "                                             doc2bow  \\\n",
       "0  [(0, 4), (1, 7), (2, 1), (3, 1), (4, 1), (5, 1...   \n",
       "1  [(0, 1), (1, 2), (5, 3), (20, 1), (24, 1), (39...   \n",
       "2  [(0, 1), (1, 1), (5, 1), (65, 1), (105, 2), (1...   \n",
       "3  [(71, 1), (82, 1), (185, 1), (225, 1), (241, 1...   \n",
       "4  [(0, 1), (72, 1), (91, 1), (119, 1), (225, 3),...   \n",
       "\n",
       "                                           LDA_topic  \\\n",
       "0  ([(2, 0.27237153), (5, 0.18286814), (9, 0.2706...   \n",
       "1  ([(5, 0.15171626), (6, 0.095982514), (9, 0.348...   \n",
       "2  ([(8, 0.012374228), (9, 0.15228565), (13, 0.11...   \n",
       "3  ([(3, 0.060778096), (5, 0.89185345)], [(71, [5...   \n",
       "4  ([(14, 0.9586956)], [(0, [14]), (72, [14]), (9...   \n",
       "\n",
       "                                               count  \n",
       "0  CountVectorizer(analyzer='word', binary=False,...  \n",
       "1  CountVectorizer(analyzer='word', binary=False,...  \n",
       "2  CountVectorizer(analyzer='word', binary=False,...  \n",
       "3  CountVectorizer(analyzer='word', binary=False,...  \n",
       "4  CountVectorizer(analyzer='word', binary=False,...  "
      ]
     },
     "execution_count": 117,
     "metadata": {},
     "output_type": "execute_result"
    }
   ],
   "source": [
    "embedding(item_data, 'doc2bow', 'LDA_topic').head()"
   ]
  },
  {
   "cell_type": "code",
   "execution_count": 144,
   "metadata": {},
   "outputs": [
    {
     "data": {
      "text/plain": [
       "['legendari', 'awesom', 'game', 'definit', 'worth', 'even', 'star', 'war', 'fan', 'still', 'lot', 'fun', 'game', '10', '10', 'probabl', 'one', 'difficult', 'game', 'ever', 'creat', 'love', 'everi', 'singl', 'aspect', 'worth', 'frustrat', '100']"
      ]
     },
     "execution_count": 144,
     "metadata": {},
     "output_type": "execute_result"
    }
   ],
   "source": [
    "item_data['processed_reviews'].loc[100]"
   ]
  },
  {
   "cell_type": "code",
   "execution_count": 143,
   "metadata": {},
   "outputs": [
    {
     "data": {
      "text/plain": [
       "([(13, 0.35756117), (14, 0.61140436)], [(1, [14, 13]), (2, [14, 13]), (60, [14, 13]), (183, [14, 13]), (185, [14, 13]), (223, [14]), (224, [14, 13]), (225, [14, 13]), (317, [14, 13]), (319, [14, 13]), (376, [14, 13]), (497, [14, 13]), (550, [13, 14]), (601, [14, 13]), (843, [14, 13]), (941, [14, 13]), (964, [14, 13]), (983, [14, 13]), (1061, [13, 14]), (1378, [14, 13]), (1464, [14, 13]), (1605, [14, 13]), (3090, [13, 14]), (6327, [13, 14])], [(1, [(13, 0.9342886), (14, 1.0657115)]), (2, [(13, 0.32101214), (14, 0.6789878)]), (60, [(13, 0.47876626), (14, 0.52123374)]), (183, [(13, 0.26483765), (14, 0.7351623)]), (185, [(13, 0.48363823), (14, 0.51636183)]), (223, [(14, 1.0)]), (224, [(13, 0.39163318), (14, 0.6083668)]), (225, [(13, 0.9135854), (14, 2.0864146)]), (317, [(13, 0.22128966), (14, 0.7787103)]), (319, [(13, 0.47521734), (14, 0.52478266)]), (376, [(13, 0.33065966), (14, 0.6693402)]), (497, [(13, 0.38584885), (14, 0.6141511)]), (550, [(13, 0.9653385), (14, 0.034661487)]), (601, [(13, 0.18050684), (14, 0.8194931)]), (843, [(13, 0.29705244), (14, 0.70294756)]), (941, [(13, 0.30767587), (14, 0.6923241)]), (964, [(13, 0.185788), (14, 0.8142121)]), (983, [(13, 0.13814627), (14, 0.8618537)]), (1061, [(13, 0.5623303), (14, 0.43766972)]), (1378, [(13, 0.23009636), (14, 0.76990366)]), (1464, [(13, 0.33484697), (14, 0.66515297)]), (1605, [(13, 0.45808056), (14, 1.5419194)]), (3090, [(13, 0.89493966), (14, 0.105060324)]), (6327, [(13, 0.55574536), (14, 0.44425473)])])"
      ]
     },
     "execution_count": 143,
     "metadata": {},
     "output_type": "execute_result"
    }
   ],
   "source": [
    "item_data['LDA_topic'].loc[100]"
   ]
  },
  {
   "cell_type": "code",
   "execution_count": 44,
   "metadata": {},
   "outputs": [],
   "source": [
    "def tupletodic(row):\n",
    "    dc = dict((x, y) for x, y in row)\n",
    "    return dc"
   ]
  },
  {
   "cell_type": "code",
   "execution_count": 45,
   "metadata": {},
   "outputs": [],
   "source": [
    "from sklearn.feature_extraction import DictVectorizer\n",
    "dictvectorizer = DictVectorizer(sparse=True)"
   ]
  },
  {
   "cell_type": "code",
   "execution_count": 46,
   "metadata": {},
   "outputs": [],
   "source": [
    "dict_val = item_data['LDA_topic'].apply(lambda row: tupletodic(row))\n",
    "new = dictvectorizer.fit_transform(dict_val)"
   ]
  },
  {
   "cell_type": "code",
   "execution_count": 51,
   "metadata": {},
   "outputs": [
    {
     "data": {
      "text/plain": [
       "(3682, 20)"
      ]
     },
     "execution_count": 51,
     "metadata": {},
     "output_type": "execute_result"
    }
   ],
   "source": [
    "new.shape"
   ]
  },
  {
   "cell_type": "code",
   "execution_count": 64,
   "metadata": {},
   "outputs": [
    {
     "data": {
      "text/plain": [
       "array([[0.        , 0.        , 0.        , 0.        , 0.0520336 ,\n",
       "        0.        , 0.        , 0.        , 0.11329363, 0.        ,\n",
       "        0.        , 0.        , 0.        , 0.57879072, 0.        ,\n",
       "        0.        , 0.        , 0.25507805, 0.        , 0.        ]])"
      ]
     },
     "execution_count": 64,
     "metadata": {},
     "output_type": "execute_result"
    }
   ],
   "source": [
    "new[0].toarray()"
   ]
  },
  {
   "cell_type": "code",
   "execution_count": 47,
   "metadata": {},
   "outputs": [],
   "source": [
    "norm_mat = normalize(new, norm='l2', axis=1)\n",
    "cosine_mat = norm_mat @ norm_mat.T\n",
    "#cosine_mat = new @ new.T\n",
    "cosine_mat = cosine_mat.toarray()"
   ]
  },
  {
   "cell_type": "code",
   "execution_count": 48,
   "metadata": {},
   "outputs": [
    {
     "data": {
      "text/plain": [
       "array([[1.        , 0.36037342, 0.1756809 , ..., 0.41353664, 0.17573746,\n",
       "        0.32675077],\n",
       "       [0.36037342, 1.        , 0.96853868, ..., 0.02167847, 0.96885048,\n",
       "        0.07651325],\n",
       "       [0.1756809 , 0.96853868, 1.        , ..., 0.0167613 , 0.99967818,\n",
       "        0.        ],\n",
       "       ...,\n",
       "       [0.41353664, 0.02167847, 0.0167613 , ..., 1.        , 0.01635175,\n",
       "        0.02118149],\n",
       "       [0.17573746, 0.96885048, 0.99967818, ..., 0.01635175, 1.        ,\n",
       "        0.        ],\n",
       "       [0.32675077, 0.07651325, 0.        , ..., 0.02118149, 0.        ,\n",
       "        1.        ]])"
      ]
     },
     "execution_count": 48,
     "metadata": {},
     "output_type": "execute_result"
    }
   ],
   "source": [
    "cosine_mat"
   ]
  },
  {
   "cell_type": "code",
   "execution_count": 500,
   "metadata": {},
   "outputs": [],
   "source": [
    "def itemid_2_index():\n",
    "        r_index = pd.Index(item_data.item.unique(), name='item')\n",
    "        return r_index"
   ]
  },
  {
   "cell_type": "code",
   "execution_count": 501,
   "metadata": {},
   "outputs": [],
   "source": [
    "def get_user_item(userID):\n",
    "        user_item_ids = review_data.set_index('user')['item']\n",
    "        user_item = user_item_ids.loc[userID]\n",
    "        if isinstance(user_item, str):\n",
    "            user_item = pd.Series(user_item).rename(\"item\")\n",
    "        temp_df = user_item.to_frame()\n",
    "        temp_df = temp_df.reset_index()\n",
    "        return temp_df"
   ]
  },
  {
   "cell_type": "code",
   "execution_count": 502,
   "metadata": {},
   "outputs": [],
   "source": [
    "def score_reviews(item):\n",
    "        try:\n",
    "            item2index = itemid_2_index()\n",
    "            idx = item2index.get_loc(item)\n",
    "        except KeyError:\n",
    "            return pd.Series(0, item2index, name='rev_sim')\n",
    "        row = cosine_mat[idx, :].copy()\n",
    "        row[idx] = 0\n",
    "        item_sim = pd.Series(row, item2index, name='rev_sim')\n",
    "        return item_sim"
   ]
  },
  {
   "cell_type": "code",
   "execution_count": 503,
   "metadata": {},
   "outputs": [],
   "source": [
    "def predict_for_user(userID, itemList, ratings = None):\n",
    "        user_item_ids = review_data.set_index('user')['item']\n",
    "        if userID in user_item_ids.index:\n",
    "            temp_df = get_user_item(userID)\n",
    "            items = temp_df[:]['item']\n",
    "            scores = items.apply(lambda x: score_reviews(x))\n",
    "            present = items[items.isin(scores.columns)]\n",
    "            scores.loc[:, present] = 0\n",
    "            predList = scores.filter(items=itemList)\n",
    "            final_score = predList.sum(axis=0)\n",
    "            return final_score"
   ]
  },
  {
   "cell_type": "code",
   "execution_count": 504,
   "metadata": {},
   "outputs": [
    {
     "data": {
      "text/html": [
       "<div>\n",
       "<style scoped>\n",
       "    .dataframe tbody tr th:only-of-type {\n",
       "        vertical-align: middle;\n",
       "    }\n",
       "\n",
       "    .dataframe tbody tr th {\n",
       "        vertical-align: top;\n",
       "    }\n",
       "\n",
       "    .dataframe thead th {\n",
       "        text-align: right;\n",
       "    }\n",
       "</style>\n",
       "<table border=\"1\" class=\"dataframe\">\n",
       "  <thead>\n",
       "    <tr style=\"text-align: right;\">\n",
       "      <th></th>\n",
       "      <th>user_id</th>\n",
       "      <th>item_id</th>\n",
       "      <th>item_name</th>\n",
       "    </tr>\n",
       "  </thead>\n",
       "  <tbody>\n",
       "    <tr>\n",
       "      <th>0</th>\n",
       "      <td>76561197970982479</td>\n",
       "      <td>10</td>\n",
       "      <td>Counter-Strike</td>\n",
       "    </tr>\n",
       "    <tr>\n",
       "      <th>1</th>\n",
       "      <td>76561197970982479</td>\n",
       "      <td>20</td>\n",
       "      <td>Team Fortress Classic</td>\n",
       "    </tr>\n",
       "    <tr>\n",
       "      <th>2</th>\n",
       "      <td>76561197970982479</td>\n",
       "      <td>30</td>\n",
       "      <td>Day of Defeat</td>\n",
       "    </tr>\n",
       "    <tr>\n",
       "      <th>3</th>\n",
       "      <td>76561197970982479</td>\n",
       "      <td>40</td>\n",
       "      <td>Deathmatch Classic</td>\n",
       "    </tr>\n",
       "    <tr>\n",
       "      <th>4</th>\n",
       "      <td>76561197970982479</td>\n",
       "      <td>50</td>\n",
       "      <td>Half-Life: Opposing Force</td>\n",
       "    </tr>\n",
       "  </tbody>\n",
       "</table>\n",
       "</div>"
      ],
      "text/plain": [
       "             user_id  item_id                  item_name\n",
       "0  76561197970982479       10             Counter-Strike\n",
       "1  76561197970982479       20      Team Fortress Classic\n",
       "2  76561197970982479       30              Day of Defeat\n",
       "3  76561197970982479       40         Deathmatch Classic\n",
       "4  76561197970982479       50  Half-Life: Opposing Force"
      ]
     },
     "execution_count": 504,
     "metadata": {},
     "output_type": "execute_result"
    }
   ],
   "source": [
    "user_games.head()"
   ]
  },
  {
   "cell_type": "code",
   "execution_count": 505,
   "metadata": {},
   "outputs": [
    {
     "data": {
      "text/plain": [
       "item\n",
       "10    2.259903\n",
       "20    3.095146\n",
       "30    2.041466\n",
       "40    2.483646\n",
       "50    4.041049\n",
       "60    1.817818\n",
       "dtype: float64"
      ]
     },
     "execution_count": 505,
     "metadata": {},
     "output_type": "execute_result"
    }
   ],
   "source": [
    "review_data = reviews\n",
    "predict_for_user('evcentric',[10,20,30,40,50,60])"
   ]
  },
  {
   "cell_type": "code",
   "execution_count": 439,
   "metadata": {},
   "outputs": [],
   "source": [
    "#gensim.matutils.cossim(item_data['LDA_topic'].loc[0], item_data['LDA_topic'].loc[1])"
   ]
  },
  {
   "cell_type": "code",
   "execution_count": 18,
   "metadata": {},
   "outputs": [
    {
     "name": "stdout",
     "output_type": "stream",
     "text": [
      "[(0,\n",
      "  '0.021*\"path\" + 0.019*\"exil\" + 0.013*\"plane\" + 0.011*\"war\" + 0.010*\"diablo\" '\n",
      "  '+ 0.009*\"star\" + 0.008*\"nope\" + 0.006*\"gear\" + 0.006*\"emili\" + '\n",
      "  '0.005*\"metal\"'),\n",
      " (1,\n",
      "  '0.040*\"de\" + 0.034*\"que\" + 0.016*\"la\" + 0.015*\"lo\" + 0.013*\"juego\" + '\n",
      "  '0.013*\"game\" + 0.012*\"un\" + 0.012*\"el\" + 0.012*\"en\" + 0.011*\"es\"'),\n",
      " (2,\n",
      "  '0.016*\"spoler\" + 0.016*\"spolier\" + 0.015*\"spoiler\" + 0.004*\"stealth\" + '\n",
      "  '0.002*\"runescap\" + 0.001*\"bottleneck\" + 0.001*\"cs\" + 0.001*\"cpu\" + '\n",
      "  '0.001*\"rs\" + 0.001*\"ninja\"'),\n",
      " (3,\n",
      "  '0.041*\"dlc\" + 0.019*\"payday\" + 0.017*\"heist\" + 0.015*\"updat\" + 0.012*\"add\" '\n",
      "  '+ 0.012*\"new\" + 0.012*\"overkil\" + 0.011*\"overpr\" + 0.010*\"2\" + '\n",
      "  '0.009*\"microtransact\"'),\n",
      " (4,\n",
      "  '0.040*\"ㅤ\" + 0.035*\"game\" + 0.019*\"mod\" + 0.014*\"garri\" + 0.011*\"fun\" + '\n",
      "  '0.010*\"sandbox\" + 0.009*\"hey\" + 0.008*\"play\" + 0.008*\"10\" + '\n",
      "  '0.007*\"gamemod\"'),\n",
      " (5,\n",
      "  '0.045*\"game\" + 0.013*\"play\" + 0.009*\"like\" + 0.009*\"10\" + 0.007*\"get\" + '\n",
      "  '0.007*\"one\" + 0.007*\"good\" + 0.007*\"great\" + 0.006*\"stori\" + 0.005*\"time\"'),\n",
      " (6,\n",
      "  '0.039*\"buffalo\" + 0.002*\"je\" + 0.002*\"mydream\" + 0.001*\"hra\" + 0.001*\"máte\" '\n",
      "  '+ 0.001*\"ac3\" + 0.001*\"si\" + 0.001*\"noah\" + 0.001*\"cougar\" + 0.001*\"hri\"'),\n",
      " (7,\n",
      "  '0.338*\"nyan\" + 0.002*\"chess\" + 0.002*\"bread\" + 0.002*\"vr\" + 0.001*\"ffxhd\" + '\n",
      "  '0.001*\"840m\" + 0.001*\"shanta\" + 0.001*\"gpu\" + 0.001*\"mhz\" + 0.001*\"cmr\"'),\n",
      " (8,\n",
      "  '0.072*\"click\" + 0.001*\"tensei\" + 0.001*\"gedou\" + 0.001*\"uchiha\" + '\n",
      "  '0.001*\"madara\" + 0.001*\"lava\" + 0.001*\"trojan\" + 0.001*\"juubi\" + '\n",
      "  '0.001*\"naruto\" + 0.001*\"rinn\"'),\n",
      " (9,\n",
      "  '0.185*\"3\" + 0.019*\"borderland\" + 0.018*\"game\" + 0.007*\"dlc\" + 0.006*\"play\" '\n",
      "  '+ 0.006*\"2\" + 0.006*\"gun\" + 0.005*\"10\" + 0.005*\"fun\" + 0.004*\"w\"'),\n",
      " (10,\n",
      "  '0.009*\"ก\" + 0.009*\"น\" + 0.009*\"ʖ\" + 0.009*\"บ\" + 0.008*\"ม\" + 0.006*\"แต\" + '\n",
      "  '0.006*\"ด\" + 0.005*\"ต\" + 0.004*\"ไม\" + 0.004*\"ได\"'),\n",
      " (11,\n",
      "  '0.012*\"free\" + 0.012*\"tibet\" + 0.004*\"truck\" + 0.003*\"slender\" + '\n",
      "  '0.003*\"tibetfre\" + 0.002*\"overwatch\" + 0.002*\"ets2\" + 0.001*\"haunt\" + '\n",
      "  '0.001*\"badger\" + 0.001*\"slenderman\"'),\n",
      " (12,\n",
      "  '0.055*\"game\" + 0.019*\"play\" + 0.017*\"10\" + 0.012*\"fun\" + 0.011*\"hat\" + '\n",
      "  '0.010*\"good\" + 0.010*\"get\" + 0.008*\"great\" + 0.008*\"best\" + 0.007*\"like\"'),\n",
      " (13,\n",
      "  '0.096*\"bad\" + 0.020*\"rep\" + 0.017*\"и\" + 0.013*\"в\" + 0.011*\"не\" + '\n",
      "  '0.011*\"itbuy\" + 0.009*\"game\" + 0.008*\"что\" + 0.008*\"на\" + 0.008*\"это\"'),\n",
      " (14,\n",
      "  '0.049*\"john\" + 0.047*\"madden\" + 0.006*\"aeiou\" + 0.003*\"footbal\" + '\n",
      "  '0.001*\"text\" + 0.001*\"holla\" + 0.001*\"moon\" + 0.001*\"batch\" + '\n",
      "  '0.001*\"archeblad\" + 0.001*\"spam\"'),\n",
      " (15,\n",
      "  '0.048*\"game\" + 0.016*\"play\" + 0.012*\"get\" + 0.010*\"like\" + 0.008*\"good\" + '\n",
      "  '0.008*\"fun\" + 0.007*\"time\" + 0.006*\"great\" + 0.006*\"10\" + 0.006*\"one\"'),\n",
      " (16,\n",
      "  '0.042*\"game\" + 0.018*\"zombi\" + 0.016*\"play\" + 0.014*\"fun\" + 0.013*\"good\" + '\n",
      "  '0.010*\"steambor\" + 0.010*\"10\" + 0.010*\"like\" + 0.007*\"get\" + 0.007*\"great\"'),\n",
      " (17,\n",
      "  '0.200*\"член\" + 0.003*\"chocol\" + 0.002*\"членчлен\" + 0.002*\"10\" + '\n",
      "  '0.001*\"milk\" + 0.001*\"pan\" + 0.001*\"game\" + 0.001*\"менее\" + 0.001*\"bowl\" + '\n",
      "  '0.001*\"kb\"'),\n",
      " (18,\n",
      "  '0.060*\"game\" + 0.014*\"play\" + 0.012*\"10\" + 0.011*\"stori\" + 0.010*\"like\" + '\n",
      "  '0.008*\"one\" + 0.008*\"time\" + 0.008*\"great\" + 0.007*\"get\" + 0.007*\"realli\"'),\n",
      " (19,\n",
      "  '0.054*\"game\" + 0.013*\"play\" + 0.013*\"10\" + 0.010*\"get\" + 0.010*\"like\" + '\n",
      "  '0.008*\"good\" + 0.007*\"fun\" + 0.007*\"would\" + 0.006*\"realli\" + '\n",
      "  '0.006*\"great\"')]\n"
     ]
    }
   ],
   "source": [
    "from pprint import pprint\n",
    "# Print the Keyword in the 10 topics\n",
    "pprint(ldamodel.print_topics())\n",
    "doc_lda = ldamodel[corpus]"
   ]
  },
  {
   "cell_type": "code",
   "execution_count": null,
   "metadata": {},
   "outputs": [],
   "source": []
  }
 ],
 "metadata": {
  "kernelspec": {
   "display_name": "Python 3",
   "language": "python",
   "name": "python3"
  },
  "language_info": {
   "codemirror_mode": {
    "name": "ipython",
    "version": 3
   },
   "file_extension": ".py",
   "mimetype": "text/x-python",
   "name": "python",
   "nbconvert_exporter": "python",
   "pygments_lexer": "ipython3",
   "version": "3.7.2"
  }
 },
 "nbformat": 4,
 "nbformat_minor": 2
}
