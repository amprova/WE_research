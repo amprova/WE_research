{
 "cells": [
  {
   "cell_type": "code",
   "execution_count": 1,
   "metadata": {},
   "outputs": [],
   "source": [
    "import pandas as pd\n",
    "import numpy as np\n",
    "from scipy import sparse as sps\n",
    "import nltk\n",
    "import pickle\n",
    "from sklearn.feature_extraction.text import TfidfVectorizer\n",
    "%matplotlib inline\n",
    "import matplotlib.pyplot as plt\n",
    "from nltk.stem import WordNetLemmatizer\n",
    "from nltk.corpus import stopwords\n",
    "from nltk.stem import PorterStemmer\n",
    "from nltk.tokenize import RegexpTokenizer\n",
    "ps = PorterStemmer()\n",
    "tokenizer = RegexpTokenizer(r'\\w+')\n",
    "from scipy import sparse\n",
    "from sklearn.preprocessing import normalize\n",
    "lemmatizer = WordNetLemmatizer() \n",
    "words = set(nltk.corpus.words.words())"
   ]
  },
  {
   "cell_type": "code",
   "execution_count": 2,
   "metadata": {},
   "outputs": [
    {
     "data": {
      "text/html": [
       "<div>\n",
       "<style scoped>\n",
       "    .dataframe tbody tr th:only-of-type {\n",
       "        vertical-align: middle;\n",
       "    }\n",
       "\n",
       "    .dataframe tbody tr th {\n",
       "        vertical-align: top;\n",
       "    }\n",
       "\n",
       "    .dataframe thead th {\n",
       "        text-align: right;\n",
       "    }\n",
       "</style>\n",
       "<table border=\"1\" class=\"dataframe\">\n",
       "  <thead>\n",
       "    <tr style=\"text-align: right;\">\n",
       "      <th></th>\n",
       "      <th>funny</th>\n",
       "      <th>helpful</th>\n",
       "      <th>item_id</th>\n",
       "      <th>last_edited</th>\n",
       "      <th>posted</th>\n",
       "      <th>recommend</th>\n",
       "      <th>review</th>\n",
       "      <th>user_id</th>\n",
       "    </tr>\n",
       "  </thead>\n",
       "  <tbody>\n",
       "    <tr>\n",
       "      <th>0</th>\n",
       "      <td></td>\n",
       "      <td>No ratings yet</td>\n",
       "      <td>1250</td>\n",
       "      <td></td>\n",
       "      <td>Posted November 5, 2011.</td>\n",
       "      <td>True</td>\n",
       "      <td>Simple yet with great replayability. In my opi...</td>\n",
       "      <td>76561197970982479</td>\n",
       "    </tr>\n",
       "    <tr>\n",
       "      <th>1</th>\n",
       "      <td></td>\n",
       "      <td>No ratings yet</td>\n",
       "      <td>22200</td>\n",
       "      <td></td>\n",
       "      <td>Posted July 15, 2011.</td>\n",
       "      <td>True</td>\n",
       "      <td>It's unique and worth a playthrough.</td>\n",
       "      <td>76561197970982479</td>\n",
       "    </tr>\n",
       "    <tr>\n",
       "      <th>2</th>\n",
       "      <td></td>\n",
       "      <td>No ratings yet</td>\n",
       "      <td>43110</td>\n",
       "      <td></td>\n",
       "      <td>Posted April 21, 2011.</td>\n",
       "      <td>True</td>\n",
       "      <td>Great atmosphere. The gunplay can be a bit chu...</td>\n",
       "      <td>76561197970982479</td>\n",
       "    </tr>\n",
       "    <tr>\n",
       "      <th>3</th>\n",
       "      <td></td>\n",
       "      <td>15 of 20 people (75%) found this review helpful</td>\n",
       "      <td>251610</td>\n",
       "      <td></td>\n",
       "      <td>Posted June 24, 2014.</td>\n",
       "      <td>True</td>\n",
       "      <td>I know what you think when you see this title ...</td>\n",
       "      <td>js41637</td>\n",
       "    </tr>\n",
       "    <tr>\n",
       "      <th>4</th>\n",
       "      <td></td>\n",
       "      <td>0 of 1 people (0%) found this review helpful</td>\n",
       "      <td>227300</td>\n",
       "      <td></td>\n",
       "      <td>Posted September 8, 2013.</td>\n",
       "      <td>True</td>\n",
       "      <td>For a simple (it's actually not all that simpl...</td>\n",
       "      <td>js41637</td>\n",
       "    </tr>\n",
       "  </tbody>\n",
       "</table>\n",
       "</div>"
      ],
      "text/plain": [
       "  funny                                          helpful  item_id last_edited  \\\n",
       "0                                         No ratings yet     1250               \n",
       "1                                         No ratings yet    22200               \n",
       "2                                         No ratings yet    43110               \n",
       "3        15 of 20 people (75%) found this review helpful   251610               \n",
       "4           0 of 1 people (0%) found this review helpful   227300               \n",
       "\n",
       "                      posted  recommend  \\\n",
       "0   Posted November 5, 2011.       True   \n",
       "1      Posted July 15, 2011.       True   \n",
       "2     Posted April 21, 2011.       True   \n",
       "3      Posted June 24, 2014.       True   \n",
       "4  Posted September 8, 2013.       True   \n",
       "\n",
       "                                              review            user_id  \n",
       "0  Simple yet with great replayability. In my opi...  76561197970982479  \n",
       "1               It's unique and worth a playthrough.  76561197970982479  \n",
       "2  Great atmosphere. The gunplay can be a bit chu...  76561197970982479  \n",
       "3  I know what you think when you see this title ...            js41637  \n",
       "4  For a simple (it's actually not all that simpl...            js41637  "
      ]
     },
     "execution_count": 2,
     "metadata": {},
     "output_type": "execute_result"
    }
   ],
   "source": [
    "saved = open(\"pickle/game_reviews.pickle\",\"rb\")\n",
    "game_reviews = pickle.load(saved)\n",
    "game_reviews.head()"
   ]
  },
  {
   "cell_type": "code",
   "execution_count": 3,
   "metadata": {},
   "outputs": [
    {
     "data": {
      "text/plain": [
       "(58430, 3)"
      ]
     },
     "execution_count": 3,
     "metadata": {},
     "output_type": "execute_result"
    }
   ],
   "source": [
    "reviews = game_reviews[['item_id', 'user_id','review']]\n",
    "reviews = reviews.rename(columns={'user_id': 'user', 'item_id': 'item'})\n",
    "reviews.shape"
   ]
  },
  {
   "cell_type": "code",
   "execution_count": 4,
   "metadata": {},
   "outputs": [
    {
     "data": {
      "text/html": [
       "<div>\n",
       "<style scoped>\n",
       "    .dataframe tbody tr th:only-of-type {\n",
       "        vertical-align: middle;\n",
       "    }\n",
       "\n",
       "    .dataframe tbody tr th {\n",
       "        vertical-align: top;\n",
       "    }\n",
       "\n",
       "    .dataframe thead th {\n",
       "        text-align: right;\n",
       "    }\n",
       "</style>\n",
       "<table border=\"1\" class=\"dataframe\">\n",
       "  <thead>\n",
       "    <tr style=\"text-align: right;\">\n",
       "      <th></th>\n",
       "      <th>user_id</th>\n",
       "      <th>item_id</th>\n",
       "      <th>item_name</th>\n",
       "    </tr>\n",
       "  </thead>\n",
       "  <tbody>\n",
       "    <tr>\n",
       "      <th>0</th>\n",
       "      <td>76561197970982479</td>\n",
       "      <td>10</td>\n",
       "      <td>Counter-Strike</td>\n",
       "    </tr>\n",
       "    <tr>\n",
       "      <th>1</th>\n",
       "      <td>76561197970982479</td>\n",
       "      <td>20</td>\n",
       "      <td>Team Fortress Classic</td>\n",
       "    </tr>\n",
       "    <tr>\n",
       "      <th>2</th>\n",
       "      <td>76561197970982479</td>\n",
       "      <td>30</td>\n",
       "      <td>Day of Defeat</td>\n",
       "    </tr>\n",
       "    <tr>\n",
       "      <th>3</th>\n",
       "      <td>76561197970982479</td>\n",
       "      <td>40</td>\n",
       "      <td>Deathmatch Classic</td>\n",
       "    </tr>\n",
       "    <tr>\n",
       "      <th>4</th>\n",
       "      <td>76561197970982479</td>\n",
       "      <td>50</td>\n",
       "      <td>Half-Life: Opposing Force</td>\n",
       "    </tr>\n",
       "  </tbody>\n",
       "</table>\n",
       "</div>"
      ],
      "text/plain": [
       "             user_id  item_id                  item_name\n",
       "0  76561197970982479       10             Counter-Strike\n",
       "1  76561197970982479       20      Team Fortress Classic\n",
       "2  76561197970982479       30              Day of Defeat\n",
       "3  76561197970982479       40         Deathmatch Classic\n",
       "4  76561197970982479       50  Half-Life: Opposing Force"
      ]
     },
     "execution_count": 4,
     "metadata": {},
     "output_type": "execute_result"
    }
   ],
   "source": [
    "user_game = open(\"pickle/user_games.pickle\",\"rb\")\n",
    "user_games = pickle.load(user_game)\n",
    "user_games.head()"
   ]
  },
  {
   "cell_type": "code",
   "execution_count": 5,
   "metadata": {},
   "outputs": [
    {
     "data": {
      "text/html": [
       "<div>\n",
       "<style scoped>\n",
       "    .dataframe tbody tr th:only-of-type {\n",
       "        vertical-align: middle;\n",
       "    }\n",
       "\n",
       "    .dataframe tbody tr th {\n",
       "        vertical-align: top;\n",
       "    }\n",
       "\n",
       "    .dataframe thead th {\n",
       "        text-align: right;\n",
       "    }\n",
       "</style>\n",
       "<table border=\"1\" class=\"dataframe\">\n",
       "  <thead>\n",
       "    <tr style=\"text-align: right;\">\n",
       "      <th></th>\n",
       "      <th>item</th>\n",
       "      <th>user</th>\n",
       "    </tr>\n",
       "  </thead>\n",
       "  <tbody>\n",
       "    <tr>\n",
       "      <th>0</th>\n",
       "      <td>10</td>\n",
       "      <td>76561197970982479</td>\n",
       "    </tr>\n",
       "    <tr>\n",
       "      <th>1</th>\n",
       "      <td>20</td>\n",
       "      <td>76561197970982479</td>\n",
       "    </tr>\n",
       "    <tr>\n",
       "      <th>2</th>\n",
       "      <td>30</td>\n",
       "      <td>76561197970982479</td>\n",
       "    </tr>\n",
       "    <tr>\n",
       "      <th>3</th>\n",
       "      <td>40</td>\n",
       "      <td>76561197970982479</td>\n",
       "    </tr>\n",
       "    <tr>\n",
       "      <th>4</th>\n",
       "      <td>50</td>\n",
       "      <td>76561197970982479</td>\n",
       "    </tr>\n",
       "  </tbody>\n",
       "</table>\n",
       "</div>"
      ],
      "text/plain": [
       "   item               user\n",
       "0    10  76561197970982479\n",
       "1    20  76561197970982479\n",
       "2    30  76561197970982479\n",
       "3    40  76561197970982479\n",
       "4    50  76561197970982479"
      ]
     },
     "execution_count": 5,
     "metadata": {},
     "output_type": "execute_result"
    }
   ],
   "source": [
    "user_games_list = user_games.rename(columns={'user_id': 'user', 'item_id': 'item'})\n",
    "user_games_list = user_games_list[['item', 'user']]\n",
    "\n",
    "user_games_list.head()"
   ]
  },
  {
   "cell_type": "code",
   "execution_count": 6,
   "metadata": {},
   "outputs": [],
   "source": [
    "def process(content):\n",
    "        \n",
    "        processed = tokenizer.tokenize(content)\n",
    "\n",
    "        processed = [token.lower() for token in processed]\n",
    "\n",
    "        processed = [token for token in processed if token not in stopwords.words('english')]\n",
    "        \n",
    "        #processed = [token for token in processed if token in words or not token.isalnum()]\n",
    "        \n",
    "        processed = [ps.stem(token) for token in processed]\n",
    "        \n",
    "        return processed"
   ]
  },
  {
   "cell_type": "code",
   "execution_count": 7,
   "metadata": {},
   "outputs": [],
   "source": [
    "item_data = pd.DataFrame({'review': reviews.groupby(['item']).review.apply(lambda x:' '.join(x))})\n",
    "item_data.reset_index(inplace=True)\n",
    "item_data['processed_reviews'] = item_data['review'].apply(lambda row: process(row))"
   ]
  },
  {
   "cell_type": "code",
   "execution_count": 8,
   "metadata": {},
   "outputs": [
    {
     "data": {
      "text/html": [
       "<div>\n",
       "<style scoped>\n",
       "    .dataframe tbody tr th:only-of-type {\n",
       "        vertical-align: middle;\n",
       "    }\n",
       "\n",
       "    .dataframe tbody tr th {\n",
       "        vertical-align: top;\n",
       "    }\n",
       "\n",
       "    .dataframe thead th {\n",
       "        text-align: right;\n",
       "    }\n",
       "</style>\n",
       "<table border=\"1\" class=\"dataframe\">\n",
       "  <thead>\n",
       "    <tr style=\"text-align: right;\">\n",
       "      <th></th>\n",
       "      <th>item</th>\n",
       "      <th>review</th>\n",
       "      <th>processed_reviews</th>\n",
       "    </tr>\n",
       "  </thead>\n",
       "  <tbody>\n",
       "    <tr>\n",
       "      <th>0</th>\n",
       "      <td>10</td>\n",
       "      <td>Cool game Wallbang simulator this game is the ...</td>\n",
       "      <td>[cool, game, wallbang, simul, game, 1, onlin, ...</td>\n",
       "    </tr>\n",
       "    <tr>\n",
       "      <th>1</th>\n",
       "      <td>20</td>\n",
       "      <td>No Bread. Team Fortress tutkusunun başlangıcı;...</td>\n",
       "      <td>[bread, team, fortress, tutkusunun, başlangıcı...</td>\n",
       "    </tr>\n",
       "    <tr>\n",
       "      <th>2</th>\n",
       "      <td>30</td>\n",
       "      <td>An excellent war shooter with a great online c...</td>\n",
       "      <td>[excel, war, shooter, great, onlin, commun, 5,...</td>\n",
       "    </tr>\n",
       "    <tr>\n",
       "      <th>3</th>\n",
       "      <td>40</td>\n",
       "      <td>Best playerbase I have ever met. Everybody is ...</td>\n",
       "      <td>[best, playerbas, ever, met, everybodi, nice, ...</td>\n",
       "    </tr>\n",
       "    <tr>\n",
       "      <th>4</th>\n",
       "      <td>50</td>\n",
       "      <td>You want a decent Half-Life 1 game that's chea...</td>\n",
       "      <td>[want, decent, half, life, 1, game, cheap, get...</td>\n",
       "    </tr>\n",
       "  </tbody>\n",
       "</table>\n",
       "</div>"
      ],
      "text/plain": [
       "   item                                             review  \\\n",
       "0    10  Cool game Wallbang simulator this game is the ...   \n",
       "1    20  No Bread. Team Fortress tutkusunun başlangıcı;...   \n",
       "2    30  An excellent war shooter with a great online c...   \n",
       "3    40  Best playerbase I have ever met. Everybody is ...   \n",
       "4    50  You want a decent Half-Life 1 game that's chea...   \n",
       "\n",
       "                                   processed_reviews  \n",
       "0  [cool, game, wallbang, simul, game, 1, onlin, ...  \n",
       "1  [bread, team, fortress, tutkusunun, başlangıcı...  \n",
       "2  [excel, war, shooter, great, onlin, commun, 5,...  \n",
       "3  [best, playerbas, ever, met, everybodi, nice, ...  \n",
       "4  [want, decent, half, life, 1, game, cheap, get...  "
      ]
     },
     "execution_count": 8,
     "metadata": {},
     "output_type": "execute_result"
    }
   ],
   "source": [
    "item_data.head()"
   ]
  },
  {
   "cell_type": "code",
   "execution_count": 9,
   "metadata": {},
   "outputs": [],
   "source": [
    "#item_data['bow'] = item_data['processed_reviews'].apply(lambda row: ' '.join(row))\n",
    "#bow = item_data['bow'].tolist()\n",
    "#len(bow)"
   ]
  },
  {
   "cell_type": "code",
   "execution_count": 10,
   "metadata": {},
   "outputs": [
    {
     "data": {
      "text/plain": [
       "3682"
      ]
     },
     "execution_count": 10,
     "metadata": {},
     "output_type": "execute_result"
    }
   ],
   "source": [
    "bow = item_data['processed_reviews'].tolist()\n",
    "len(bow)"
   ]
  },
  {
   "cell_type": "code",
   "execution_count": 11,
   "metadata": {},
   "outputs": [
    {
     "data": {
      "text/plain": [
       "571"
      ]
     },
     "execution_count": 11,
     "metadata": {},
     "output_type": "execute_result"
    }
   ],
   "source": [
    "len(set(bow[0]))"
   ]
  },
  {
   "cell_type": "code",
   "execution_count": 12,
   "metadata": {},
   "outputs": [],
   "source": [
    "from gensim import corpora\n",
    "dictionary = corpora.Dictionary(bow) \n",
    "corpus = [dictionary.doc2bow(text) for text in bow]"
   ]
  },
  {
   "cell_type": "code",
   "execution_count": 13,
   "metadata": {},
   "outputs": [
    {
     "name": "stdout",
     "output_type": "stream",
     "text": [
      "Number of unique tokens: 70964\n",
      "Number of articles: 3682\n"
     ]
    }
   ],
   "source": [
    "print('Number of unique tokens: %d' % len(dictionary))\n",
    "print('Number of articles: %d' % len(corpus))"
   ]
  },
  {
   "cell_type": "code",
   "execution_count": 14,
   "metadata": {},
   "outputs": [],
   "source": [
    "import gensim\n",
    "NUM_TOPICS = 20\n",
    "ldamodel = gensim.models.ldamodel.LdaModel(corpus, num_topics = NUM_TOPICS, id2word=dictionary, passes=15)\n",
    "#ldamodel.save('model5.gensim')"
   ]
  },
  {
   "cell_type": "code",
   "execution_count": 18,
   "metadata": {},
   "outputs": [
    {
     "name": "stdout",
     "output_type": "stream",
     "text": [
      "[(0,\n",
      "  '0.021*\"path\" + 0.019*\"exil\" + 0.013*\"plane\" + 0.011*\"war\" + 0.010*\"diablo\" '\n",
      "  '+ 0.009*\"star\" + 0.008*\"nope\" + 0.006*\"gear\" + 0.006*\"emili\" + '\n",
      "  '0.005*\"metal\"'),\n",
      " (1,\n",
      "  '0.040*\"de\" + 0.034*\"que\" + 0.016*\"la\" + 0.015*\"lo\" + 0.013*\"juego\" + '\n",
      "  '0.013*\"game\" + 0.012*\"un\" + 0.012*\"el\" + 0.012*\"en\" + 0.011*\"es\"'),\n",
      " (2,\n",
      "  '0.016*\"spoler\" + 0.016*\"spolier\" + 0.015*\"spoiler\" + 0.004*\"stealth\" + '\n",
      "  '0.002*\"runescap\" + 0.001*\"bottleneck\" + 0.001*\"cs\" + 0.001*\"cpu\" + '\n",
      "  '0.001*\"rs\" + 0.001*\"ninja\"'),\n",
      " (3,\n",
      "  '0.041*\"dlc\" + 0.019*\"payday\" + 0.017*\"heist\" + 0.015*\"updat\" + 0.012*\"add\" '\n",
      "  '+ 0.012*\"new\" + 0.012*\"overkil\" + 0.011*\"overpr\" + 0.010*\"2\" + '\n",
      "  '0.009*\"microtransact\"'),\n",
      " (4,\n",
      "  '0.040*\"ㅤ\" + 0.035*\"game\" + 0.019*\"mod\" + 0.014*\"garri\" + 0.011*\"fun\" + '\n",
      "  '0.010*\"sandbox\" + 0.009*\"hey\" + 0.008*\"play\" + 0.008*\"10\" + '\n",
      "  '0.007*\"gamemod\"'),\n",
      " (5,\n",
      "  '0.045*\"game\" + 0.013*\"play\" + 0.009*\"like\" + 0.009*\"10\" + 0.007*\"get\" + '\n",
      "  '0.007*\"one\" + 0.007*\"good\" + 0.007*\"great\" + 0.006*\"stori\" + 0.005*\"time\"'),\n",
      " (6,\n",
      "  '0.039*\"buffalo\" + 0.002*\"je\" + 0.002*\"mydream\" + 0.001*\"hra\" + 0.001*\"máte\" '\n",
      "  '+ 0.001*\"ac3\" + 0.001*\"si\" + 0.001*\"noah\" + 0.001*\"cougar\" + 0.001*\"hri\"'),\n",
      " (7,\n",
      "  '0.338*\"nyan\" + 0.002*\"chess\" + 0.002*\"bread\" + 0.002*\"vr\" + 0.001*\"ffxhd\" + '\n",
      "  '0.001*\"840m\" + 0.001*\"shanta\" + 0.001*\"gpu\" + 0.001*\"mhz\" + 0.001*\"cmr\"'),\n",
      " (8,\n",
      "  '0.072*\"click\" + 0.001*\"tensei\" + 0.001*\"gedou\" + 0.001*\"uchiha\" + '\n",
      "  '0.001*\"madara\" + 0.001*\"lava\" + 0.001*\"trojan\" + 0.001*\"juubi\" + '\n",
      "  '0.001*\"naruto\" + 0.001*\"rinn\"'),\n",
      " (9,\n",
      "  '0.185*\"3\" + 0.019*\"borderland\" + 0.018*\"game\" + 0.007*\"dlc\" + 0.006*\"play\" '\n",
      "  '+ 0.006*\"2\" + 0.006*\"gun\" + 0.005*\"10\" + 0.005*\"fun\" + 0.004*\"w\"'),\n",
      " (10,\n",
      "  '0.009*\"ก\" + 0.009*\"น\" + 0.009*\"ʖ\" + 0.009*\"บ\" + 0.008*\"ม\" + 0.006*\"แต\" + '\n",
      "  '0.006*\"ด\" + 0.005*\"ต\" + 0.004*\"ไม\" + 0.004*\"ได\"'),\n",
      " (11,\n",
      "  '0.012*\"free\" + 0.012*\"tibet\" + 0.004*\"truck\" + 0.003*\"slender\" + '\n",
      "  '0.003*\"tibetfre\" + 0.002*\"overwatch\" + 0.002*\"ets2\" + 0.001*\"haunt\" + '\n",
      "  '0.001*\"badger\" + 0.001*\"slenderman\"'),\n",
      " (12,\n",
      "  '0.055*\"game\" + 0.019*\"play\" + 0.017*\"10\" + 0.012*\"fun\" + 0.011*\"hat\" + '\n",
      "  '0.010*\"good\" + 0.010*\"get\" + 0.008*\"great\" + 0.008*\"best\" + 0.007*\"like\"'),\n",
      " (13,\n",
      "  '0.096*\"bad\" + 0.020*\"rep\" + 0.017*\"и\" + 0.013*\"в\" + 0.011*\"не\" + '\n",
      "  '0.011*\"itbuy\" + 0.009*\"game\" + 0.008*\"что\" + 0.008*\"на\" + 0.008*\"это\"'),\n",
      " (14,\n",
      "  '0.049*\"john\" + 0.047*\"madden\" + 0.006*\"aeiou\" + 0.003*\"footbal\" + '\n",
      "  '0.001*\"text\" + 0.001*\"holla\" + 0.001*\"moon\" + 0.001*\"batch\" + '\n",
      "  '0.001*\"archeblad\" + 0.001*\"spam\"'),\n",
      " (15,\n",
      "  '0.048*\"game\" + 0.016*\"play\" + 0.012*\"get\" + 0.010*\"like\" + 0.008*\"good\" + '\n",
      "  '0.008*\"fun\" + 0.007*\"time\" + 0.006*\"great\" + 0.006*\"10\" + 0.006*\"one\"'),\n",
      " (16,\n",
      "  '0.042*\"game\" + 0.018*\"zombi\" + 0.016*\"play\" + 0.014*\"fun\" + 0.013*\"good\" + '\n",
      "  '0.010*\"steambor\" + 0.010*\"10\" + 0.010*\"like\" + 0.007*\"get\" + 0.007*\"great\"'),\n",
      " (17,\n",
      "  '0.200*\"член\" + 0.003*\"chocol\" + 0.002*\"членчлен\" + 0.002*\"10\" + '\n",
      "  '0.001*\"milk\" + 0.001*\"pan\" + 0.001*\"game\" + 0.001*\"менее\" + 0.001*\"bowl\" + '\n",
      "  '0.001*\"kb\"'),\n",
      " (18,\n",
      "  '0.060*\"game\" + 0.014*\"play\" + 0.012*\"10\" + 0.011*\"stori\" + 0.010*\"like\" + '\n",
      "  '0.008*\"one\" + 0.008*\"time\" + 0.008*\"great\" + 0.007*\"get\" + 0.007*\"realli\"'),\n",
      " (19,\n",
      "  '0.054*\"game\" + 0.013*\"play\" + 0.013*\"10\" + 0.010*\"get\" + 0.010*\"like\" + '\n",
      "  '0.008*\"good\" + 0.007*\"fun\" + 0.007*\"would\" + 0.006*\"realli\" + '\n",
      "  '0.006*\"great\"')]\n"
     ]
    }
   ],
   "source": [
    "from pprint import pprint\n",
    "# Print the Keyword in the 10 topics\n",
    "pprint(ldamodel.print_topics())\n",
    "doc_lda = ldamodel[corpus]"
   ]
  },
  {
   "cell_type": "code",
   "execution_count": null,
   "metadata": {},
   "outputs": [],
   "source": []
  }
 ],
 "metadata": {
  "kernelspec": {
   "display_name": "Python 3",
   "language": "python",
   "name": "python3"
  },
  "language_info": {
   "codemirror_mode": {
    "name": "ipython",
    "version": 3
   },
   "file_extension": ".py",
   "mimetype": "text/x-python",
   "name": "python",
   "nbconvert_exporter": "python",
   "pygments_lexer": "ipython3",
   "version": "3.7.2"
  }
 },
 "nbformat": 4,
 "nbformat_minor": 2
}
